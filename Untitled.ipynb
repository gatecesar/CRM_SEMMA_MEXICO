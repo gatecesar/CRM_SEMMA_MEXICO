{
 "cells": [
  {
   "cell_type": "code",
   "execution_count": 4,
   "metadata": {},
   "outputs": [],
   "source": [
    "from crm_sample import Sample\n",
    "import pandas as pd\n",
    "import pyspark\n",
    "from pyspark.sql import SparkSession"
   ]
  },
  {
   "cell_type": "code",
   "execution_count": 7,
   "metadata": {},
   "outputs": [
    {
     "data": {
      "text/html": [
       "<div>\n",
       "<style scoped>\n",
       "    .dataframe tbody tr th:only-of-type {\n",
       "        vertical-align: middle;\n",
       "    }\n",
       "\n",
       "    .dataframe tbody tr th {\n",
       "        vertical-align: top;\n",
       "    }\n",
       "\n",
       "    .dataframe thead th {\n",
       "        text-align: right;\n",
       "    }\n",
       "</style>\n",
       "<table border=\"1\" class=\"dataframe\">\n",
       "  <thead>\n",
       "    <tr style=\"text-align: right;\">\n",
       "      <th></th>\n",
       "      <th>TGT</th>\n",
       "      <th>Var1</th>\n",
       "      <th>Var2</th>\n",
       "      <th>Var3</th>\n",
       "      <th>Var4</th>\n",
       "    </tr>\n",
       "  </thead>\n",
       "  <tbody>\n",
       "    <tr>\n",
       "      <td>0</td>\n",
       "      <td>0</td>\n",
       "      <td>0.319845</td>\n",
       "      <td>None</td>\n",
       "      <td>5</td>\n",
       "      <td>10</td>\n",
       "    </tr>\n",
       "    <tr>\n",
       "      <td>1</td>\n",
       "      <td>1</td>\n",
       "      <td>0.669336</td>\n",
       "      <td>None</td>\n",
       "      <td>6</td>\n",
       "      <td>12</td>\n",
       "    </tr>\n",
       "    <tr>\n",
       "      <td>2</td>\n",
       "      <td>0</td>\n",
       "      <td>0.176801</td>\n",
       "      <td>None</td>\n",
       "      <td>7</td>\n",
       "      <td>14</td>\n",
       "    </tr>\n",
       "    <tr>\n",
       "      <td>3</td>\n",
       "      <td>1</td>\n",
       "      <td>0.262581</td>\n",
       "      <td>None</td>\n",
       "      <td>8</td>\n",
       "      <td>16</td>\n",
       "    </tr>\n",
       "    <tr>\n",
       "      <td>4</td>\n",
       "      <td>1</td>\n",
       "      <td>0.0483597</td>\n",
       "      <td>None</td>\n",
       "      <td>9</td>\n",
       "      <td>18</td>\n",
       "    </tr>\n",
       "  </tbody>\n",
       "</table>\n",
       "</div>"
      ],
      "text/plain": [
       "   TGT       Var1  Var2  Var3  Var4\n",
       "0    0   0.319845  None     5    10\n",
       "1    1   0.669336  None     6    12\n",
       "2    0   0.176801  None     7    14\n",
       "3    1   0.262581  None     8    16\n",
       "4    1  0.0483597  None     9    18"
      ]
     },
     "execution_count": 7,
     "metadata": {},
     "output_type": "execute_result"
    }
   ],
   "source": [
    "dataSample = pd.read_excel(\"./sampleData.xlsx\")\n",
    "dataSample = dataSample.where((pd.notnull(dataSample)), None)\n",
    "dataSample.head()"
   ]
  },
  {
   "cell_type": "code",
   "execution_count": 8,
   "metadata": {},
   "outputs": [],
   "source": [
    "spark = SparkSession.builder.appName('pandasToSparkDF').getOrCreate()\n",
    "\n",
    "df = spark.createDataFrame(dataSample)"
   ]
  },
  {
   "cell_type": "code",
   "execution_count": 7,
   "metadata": {},
   "outputs": [
    {
     "name": "stdout",
     "output_type": "stream",
     "text": [
      "+---+--------------------+----+----+----+\n",
      "|TGT|                Var1|Var2|Var3|Var4|\n",
      "+---+--------------------+----+----+----+\n",
      "|  0| 0.31984543111421837|null|   5|  10|\n",
      "|  1|  0.6693363100031399|null|   6|  12|\n",
      "|  0| 0.17680093924740925|null|   7|  14|\n",
      "|  1|  0.2625810316487944|null|   8|  16|\n",
      "|  1|0.048359690482971285|null|   9|  18|\n",
      "|  0|  0.6627461225065242|null|  10|  20|\n",
      "|  1| 0.43987012797448666| 1.0|   5|  10|\n",
      "|  1|                null|null|   6|  12|\n",
      "|  1|                null|null|   7|  14|\n",
      "|  1|  0.7113584214418179| 2.0|   8|  16|\n",
      "|  0|0.016347753421930955|null|   9|  18|\n",
      "|  0|  0.6775088537844404|null|  12|  24|\n",
      "|  0| 0.09908422575245535|null|   1|   2|\n",
      "|  0| 0.09144702288270201| 3.0|  23|  46|\n",
      "|  0|  0.5835177430531914|null| 213| 426|\n",
      "|  1|  0.1713354830367705|null| 213| 426|\n",
      "|  0| 0.24840481900577538| 4.0|  21|  42|\n",
      "|  0|  0.9019271562317152|null|   3|   6|\n",
      "|  1| 0.13416649434744532| 4.0|  21|  42|\n",
      "+---+--------------------+----+----+----+\n",
      "\n"
     ]
    }
   ],
   "source": [
    "df.show()"
   ]
  },
  {
   "cell_type": "code",
   "execution_count": 9,
   "metadata": {},
   "outputs": [],
   "source": [
    "dataSample1 = Sample(data=df)"
   ]
  },
  {
   "cell_type": "code",
   "execution_count": 9,
   "metadata": {},
   "outputs": [
    {
     "data": {
      "text/plain": [
       "DataFrame[TGT: bigint, Var1: double, Var3: bigint, Var4: bigint]"
      ]
     },
     "execution_count": 9,
     "metadata": {},
     "output_type": "execute_result"
    }
   ],
   "source": [
    "dataSample1.null_cleaner()"
   ]
  },
  {
   "cell_type": "code",
   "execution_count": 10,
   "metadata": {},
   "outputs": [],
   "source": [
    "dataSample1.data = dataSample1.null_cleaner()"
   ]
  },
  {
   "cell_type": "code",
   "execution_count": 73,
   "metadata": {},
   "outputs": [
    {
     "name": "stdout",
     "output_type": "stream",
     "text": [
      "root\n",
      " |-- TGT: long (nullable = true)\n",
      " |-- Var1: double (nullable = true)\n",
      " |-- Var3: long (nullable = true)\n",
      " |-- Var4: long (nullable = true)\n",
      "\n"
     ]
    }
   ],
   "source": [
    "dataSample1.data.printSchema()"
   ]
  },
  {
   "cell_type": "code",
   "execution_count": 84,
   "metadata": {},
   "outputs": [],
   "source": [
    "b = dataSample1.data"
   ]
  },
  {
   "cell_type": "code",
   "execution_count": 11,
   "metadata": {},
   "outputs": [
    {
     "name": "stdout",
     "output_type": "stream",
     "text": [
      "+---+--------------------+----+----+\n",
      "|TGT|                Var1|Var3|Var4|\n",
      "+---+--------------------+----+----+\n",
      "|  0| 0.31984543111421837|   5|  10|\n",
      "|  1|  0.6693363100031399|   6|  12|\n",
      "|  0| 0.17680093924740925|   7|  14|\n",
      "|  1|  0.2625810316487944|   8|  16|\n",
      "|  1|0.048359690482971285|   9|  18|\n",
      "|  0|  0.6627461225065242|  10|  20|\n",
      "|  1| 0.43987012797448666|   5|  10|\n",
      "|  1|                null|   6|  12|\n",
      "|  1|                null|   7|  14|\n",
      "|  1|  0.7113584214418179|   8|  16|\n",
      "|  0|0.016347753421930955|   9|  18|\n",
      "|  0|  0.6775088537844404|  12|  24|\n",
      "|  0| 0.09908422575245535|   1|   2|\n",
      "|  0| 0.09144702288270201|  23|  46|\n",
      "|  0|  0.5835177430531914| 213| 426|\n",
      "|  1|  0.1713354830367705| 213| 426|\n",
      "|  0| 0.24840481900577538|  21|  42|\n",
      "|  0|  0.9019271562317152|   3|   6|\n",
      "|  1| 0.13416649434744532|  21|  42|\n",
      "+---+--------------------+----+----+\n",
      "\n",
      "None\n"
     ]
    }
   ],
   "source": [
    "print(dataSample1.data.show())"
   ]
  },
  {
   "cell_type": "code",
   "execution_count": 44,
   "metadata": {},
   "outputs": [
    {
     "name": "stdout",
     "output_type": "stream",
     "text": [
      "root\n",
      " |-- TGT: long (nullable = true)\n",
      " |-- Var1: double (nullable = true)\n",
      " |-- Var2: double (nullable = true)\n",
      " |-- Var3: long (nullable = true)\n",
      " |-- Var4: long (nullable = true)\n",
      "\n",
      "None\n"
     ]
    }
   ],
   "source": [
    "print(df.printSchema())"
   ]
  },
  {
   "cell_type": "code",
   "execution_count": 77,
   "metadata": {},
   "outputs": [
    {
     "name": "stdout",
     "output_type": "stream",
     "text": [
      "+---+--------------------+----+----+\n",
      "|TGT|                Var1|Var3|Var4|\n",
      "+---+--------------------+----+----+\n",
      "|  0| 0.31984543111421837|   5|  10|\n",
      "|  1|  0.6693363100031399|   6|  12|\n",
      "|  0| 0.17680093924740925|   7|  14|\n",
      "|  1|  0.2625810316487944|   8|  16|\n",
      "|  1|0.048359690482971285|   9|  18|\n",
      "|  0|  0.6627461225065242|  10|  20|\n",
      "|  1| 0.43987012797448666|   5|  10|\n",
      "|  1|                null|   6|  12|\n",
      "|  1|                null|   7|  14|\n",
      "|  1|  0.7113584214418179|   8|  16|\n",
      "|  0|0.016347753421930955|   9|  18|\n",
      "|  0|  0.6775088537844404|  12|  24|\n",
      "|  0| 0.09908422575245535|   1|   2|\n",
      "|  0| 0.09144702288270201|  23|  46|\n",
      "|  0|  0.5835177430531914| 213| 426|\n",
      "|  1|  0.1713354830367705| 213| 426|\n",
      "|  0| 0.24840481900577538|  21|  42|\n",
      "|  0|  0.9019271562317152|   3|   6|\n",
      "|  1| 0.13416649434744532|  21|  42|\n",
      "+---+--------------------+----+----+\n",
      "\n",
      "None\n"
     ]
    }
   ],
   "source": [
    "print(dataSample1Clean.show())"
   ]
  },
  {
   "cell_type": "code",
   "execution_count": 74,
   "metadata": {},
   "outputs": [
    {
     "name": "stdout",
     "output_type": "stream",
     "text": [
      "root\n",
      " |-- TGT: long (nullable = true)\n",
      " |-- Var1: double (nullable = true)\n",
      " |-- Var3: long (nullable = true)\n",
      " |-- Var4: long (nullable = true)\n",
      "\n"
     ]
    }
   ],
   "source": [
    "dataSample1Clean.printSchema()"
   ]
  },
  {
   "cell_type": "code",
   "execution_count": 51,
   "metadata": {},
   "outputs": [
    {
     "name": "stdout",
     "output_type": "stream",
     "text": [
      "+---+--------------------+----+----+\n",
      "|TGT|                Var1|Var3|Var4|\n",
      "+---+--------------------+----+----+\n",
      "|  0| 0.31984543111421837|   5|  10|\n",
      "|  1|  0.6693363100031399|   6|  12|\n",
      "|  0| 0.17680093924740925|   7|  14|\n",
      "|  1|  0.2625810316487944|   8|  16|\n",
      "|  1|0.048359690482971285|   9|  18|\n",
      "|  0|  0.6627461225065242|  10|  20|\n",
      "|  1| 0.43987012797448666|   5|  10|\n",
      "|  1|                null|   6|  12|\n",
      "|  1|                null|   7|  14|\n",
      "|  1|  0.7113584214418179|   8|  16|\n",
      "|  0|0.016347753421930955|   9|  18|\n",
      "|  0|  0.6775088537844404|  12|  24|\n",
      "|  0| 0.09908422575245535|   1|   2|\n",
      "|  0| 0.09144702288270201|  23|  46|\n",
      "|  0|  0.5835177430531914| 213| 426|\n",
      "|  1|  0.1713354830367705| 213| 426|\n",
      "|  0| 0.24840481900577538|  21|  42|\n",
      "|  0|  0.9019271562317152|   3|   6|\n",
      "|  1| 0.13416649434744532|  21|  42|\n",
      "+---+--------------------+----+----+\n",
      "\n"
     ]
    }
   ],
   "source": [
    "dataSample1Clean.show()"
   ]
  },
  {
   "cell_type": "code",
   "execution_count": 12,
   "metadata": {},
   "outputs": [],
   "source": [
    "dataSample2 = Sample(data = dataSample1.data)"
   ]
  },
  {
   "cell_type": "code",
   "execution_count": 13,
   "metadata": {},
   "outputs": [
    {
     "data": {
      "text/plain": [
       "DataFrame[TGT: double, Var1: double, Var3: double, Var4: double]"
      ]
     },
     "execution_count": 13,
     "metadata": {},
     "output_type": "execute_result"
    }
   ],
   "source": [
    "dataSample2.imputation()"
   ]
  },
  {
   "cell_type": "code",
   "execution_count": 15,
   "metadata": {},
   "outputs": [
    {
     "name": "stdout",
     "output_type": "stream",
     "text": [
      "root\n",
      " |-- TGT: double (nullable = true)\n",
      " |-- Var1: double (nullable = true)\n",
      " |-- Var3: double (nullable = true)\n",
      " |-- Var4: double (nullable = true)\n",
      "\n"
     ]
    }
   ],
   "source": [
    "dataSample2.imputation().printSchema()"
   ]
  },
  {
   "cell_type": "code",
   "execution_count": 11,
   "metadata": {},
   "outputs": [],
   "source": [
    " dataSample1.data =  dataSample1.imputation()"
   ]
  },
  {
   "cell_type": "code",
   "execution_count": 19,
   "metadata": {},
   "outputs": [
    {
     "name": "stdout",
     "output_type": "stream",
     "text": [
      "root\n",
      " |-- TGT: double (nullable = true)\n",
      " |-- Var1: double (nullable = true)\n",
      " |-- Var3: double (nullable = true)\n",
      " |-- Var4: double (nullable = true)\n",
      "\n"
     ]
    }
   ],
   "source": [
    "dataSample1.data.printSchema()"
   ]
  },
  {
   "cell_type": "code",
   "execution_count": 12,
   "metadata": {},
   "outputs": [
    {
     "name": "stdout",
     "output_type": "stream",
     "text": [
      "+---+--------------------+-----+-----+\n",
      "|TGT|                Var1| Var3| Var4|\n",
      "+---+--------------------+-----+-----+\n",
      "|0.0| 0.31984543111421837|  5.0| 10.0|\n",
      "|1.0|  0.6693363100031399|  6.0| 12.0|\n",
      "|0.0| 0.17680093924740925|  7.0| 14.0|\n",
      "|1.0|  0.2625810316487944|  8.0| 16.0|\n",
      "|1.0|0.048359690482971285|  9.0| 18.0|\n",
      "|0.0|  0.6627461225065242| 10.0| 20.0|\n",
      "|1.0| 0.43987012797448666|  5.0| 10.0|\n",
      "|1.0|  0.3655669191726934|  6.0| 12.0|\n",
      "|1.0|  0.3655669191726934|  7.0| 14.0|\n",
      "|1.0|  0.7113584214418179|  8.0| 16.0|\n",
      "|0.0|0.016347753421930955|  9.0| 18.0|\n",
      "|0.0|  0.6775088537844404| 12.0| 24.0|\n",
      "|0.0| 0.09908422575245535|  1.0|  2.0|\n",
      "|0.0| 0.09144702288270201| 23.0| 46.0|\n",
      "|0.0|  0.5835177430531914|213.0|426.0|\n",
      "|1.0|  0.1713354830367705|213.0|426.0|\n",
      "|0.0| 0.24840481900577538| 21.0| 42.0|\n",
      "|0.0|  0.9019271562317152|  3.0|  6.0|\n",
      "|1.0| 0.13416649434744532| 21.0| 42.0|\n",
      "+---+--------------------+-----+-----+\n",
      "\n"
     ]
    }
   ],
   "source": [
    "dataSample1.data.show()"
   ]
  },
  {
   "cell_type": "code",
   "execution_count": 13,
   "metadata": {},
   "outputs": [],
   "source": [
    "dataSample1.data = dataSample1.correlation()"
   ]
  },
  {
   "cell_type": "code",
   "execution_count": 14,
   "metadata": {},
   "outputs": [
    {
     "name": "stdout",
     "output_type": "stream",
     "text": [
      "root\n",
      " |-- TGT: double (nullable = true)\n",
      " |-- Var1: double (nullable = true)\n",
      " |-- Var3: double (nullable = true)\n",
      "\n"
     ]
    }
   ],
   "source": [
    "dataSample1.data.printSchema()"
   ]
  },
  {
   "cell_type": "code",
   "execution_count": 15,
   "metadata": {},
   "outputs": [
    {
     "name": "stdout",
     "output_type": "stream",
     "text": [
      "+---+--------------------+-----+\n",
      "|TGT|                Var1| Var3|\n",
      "+---+--------------------+-----+\n",
      "|0.0| 0.31984543111421837|  5.0|\n",
      "|1.0|  0.6693363100031399|  6.0|\n",
      "|0.0| 0.17680093924740925|  7.0|\n",
      "|1.0|  0.2625810316487944|  8.0|\n",
      "|1.0|0.048359690482971285|  9.0|\n",
      "|0.0|  0.6627461225065242| 10.0|\n",
      "|1.0| 0.43987012797448666|  5.0|\n",
      "|1.0|  0.3655669191726934|  6.0|\n",
      "|1.0|  0.3655669191726934|  7.0|\n",
      "|1.0|  0.7113584214418179|  8.0|\n",
      "|0.0|0.016347753421930955|  9.0|\n",
      "|0.0|  0.6775088537844404| 12.0|\n",
      "|0.0| 0.09908422575245535|  1.0|\n",
      "|0.0| 0.09144702288270201| 23.0|\n",
      "|0.0|  0.5835177430531914|213.0|\n",
      "|1.0|  0.1713354830367705|213.0|\n",
      "|0.0| 0.24840481900577538| 21.0|\n",
      "|0.0|  0.9019271562317152|  3.0|\n",
      "|1.0| 0.13416649434744532| 21.0|\n",
      "+---+--------------------+-----+\n",
      "\n"
     ]
    }
   ],
   "source": [
    "dataSample1.data.show()"
   ]
  },
  {
   "cell_type": "code",
   "execution_count": null,
   "metadata": {},
   "outputs": [],
   "source": [
    "dataSample1.data = dataSample1."
   ]
  }
 ],
 "metadata": {
  "kernelspec": {
   "display_name": "Python 3",
   "language": "python",
   "name": "python3"
  },
  "language_info": {
   "codemirror_mode": {
    "name": "ipython",
    "version": 3
   },
   "file_extension": ".py",
   "mimetype": "text/x-python",
   "name": "python",
   "nbconvert_exporter": "python",
   "pygments_lexer": "ipython3",
   "version": "3.7.4"
  }
 },
 "nbformat": 4,
 "nbformat_minor": 2
}
